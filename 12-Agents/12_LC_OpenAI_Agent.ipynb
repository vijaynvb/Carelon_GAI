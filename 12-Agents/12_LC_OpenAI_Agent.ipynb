{
  "cells": [
    {
      "cell_type": "markdown",
      "id": "78ec6921",
      "metadata": {
        "id": "78ec6921"
      },
      "source": [
        "# Agents\n",
        "\n",
        "Agent is a modular and flexible component that can perform a variety of tasks by leveraging multiple tools and large language models (LLMs). Agents act as intermediaries that can dynamically select and execute actions based on the input they receive. They enable the creation of complex applications that require decision-making and multi-step processes.\n"
      ]
    },
    {
      "cell_type": "code",
      "execution_count": 2,
      "id": "kqJcOL4F-3pK",
      "metadata": {
        "id": "kqJcOL4F-3pK"
      },
      "outputs": [],
      "source": [
        "%%capture\n",
        "# update or install the necessary libraries\n",
        "%pip install --upgrade openai --trusted.host pypi.org --trusted.host files.pythonhosted.org\n",
        "%pip install --upgrade langchain --trusted.host pypi.org --trusted.host files.pythonhosted.org\n",
        "%pip install --upgrade langchain_community --trusted.host pypi.org --trusted.host files.pythonhosted.org\n",
        "%pip install --upgrade langchain_openai --trusted.host pypi.org --trusted.host files.pythonhosted.org\n",
        "%pip install --upgrade langchainhub --trusted.host pypi.org --trusted.host files.pythonhosted.org\n",
        "%pip install --upgrade tavily-python --trusted.host pypi.org --trusted.host files.pythonhosted.org\n",
        "%pip install --upgrade python-dotenv --trusted.host pypi.org --trusted.host files.pythonhosted.org"
      ]
    },
    {
      "cell_type": "markdown",
      "id": "TCOvsI_wQTm4",
      "metadata": {
        "id": "TCOvsI_wQTm4"
      },
      "source": [
        "TavilySearchResults is a valuable tool that connects your language model (LLM) to the web using the Tavily Search API."
      ]
    },
    {
      "cell_type": "code",
      "execution_count": 3,
      "id": "7b2421f4",
      "metadata": {
        "id": "7b2421f4"
      },
      "outputs": [],
      "source": [
        "from langchain_community.tools.tavily_search import TavilySearchResults\n",
        "from langchain_openai import ChatOpenAI\n",
        "from langchain import hub\n",
        "from langchain.agents import create_openai_functions_agent\n",
        "from langchain.agents import AgentExecutor"
      ]
    },
    {
      "cell_type": "markdown",
      "id": "4d5efcf4",
      "metadata": {
        "id": "4d5efcf4"
      },
      "source": [
        "## Prompt"
      ]
    },
    {
      "cell_type": "markdown",
      "id": "czP2CER6EEt4",
      "metadata": {
        "id": "czP2CER6EEt4"
      },
      "source": [
        "**LangChain Hub**\n",
        "\n",
        "Efficiently manage your LLM components with the LangChain Hub."
      ]
    },
    {
      "cell_type": "code",
      "execution_count": 4,
      "id": "5992682a",
      "metadata": {
        "colab": {
          "base_uri": "https://localhost:8080/"
        },
        "id": "5992682a",
        "outputId": "a926c595-b9d1-42d7-bf08-21b10f467a52"
      },
      "outputs": [
        {
          "name": "stderr",
          "output_type": "stream",
          "text": [
            "C:\\Users\\vijay\\AppData\\Local\\Packages\\PythonSoftwareFoundation.Python.3.12_qbz5n2kfra8p0\\LocalCache\\local-packages\\Python312\\site-packages\\langsmith\\client.py:272: LangSmithMissingAPIKeyWarning: API key must be provided when using hosted LangSmith API\n",
            "  warnings.warn(\n"
          ]
        }
      ],
      "source": [
        "# Get the prompt to use - you can modify this!\n",
        "# https://smith.langchain.com/hub/hwchase17/openai-functions-agent\n",
        "# The hwchase17/openai-functions-agent is a popular prompt template from LangChain Hub \n",
        "# designed for creating AI agents that can use function calling capabilities with LLM models. \n",
        "# This prompt template provides a structured format that enables agents to understand when and\n",
        "# how to call external tools or functions to complete complex tasks that require multiple \n",
        "# steps or external data access. \n",
        "prompt = hub.pull(\"hwchase17/openai-functions-agent\")"
      ]
    },
    {
      "cell_type": "markdown",
      "id": "3716d768",
      "metadata": {
        "id": "3716d768"
      },
      "source": [
        "## LLM"
      ]
    },
    {
      "cell_type": "code",
      "execution_count": 5,
      "id": "30acf78d",
      "metadata": {
        "id": "30acf78d"
      },
      "outputs": [],
      "source": [
        "import os\n",
        "from dotenv import load_dotenv\n",
        "\n",
        "# Load environment variables from .env file\n",
        "load_dotenv(\"../.env\")\n",
        "\n",
        "# Set the OpenAI API key from environment variables\n",
        "openai_api_key = os.getenv('OPENAI_API_KEY')\n",
        "\n",
        "llm = ChatOpenAI(model=\"gpt-3.5-turbo\", temperature=0,openai_api_key=openai_api_key)"
      ]
    },
    {
      "cell_type": "markdown",
      "id": "a3fd4cf9",
      "metadata": {
        "id": "a3fd4cf9"
      },
      "source": [
        "## Tools\n",
        "\n",
        "Tavily's Search API is a search engine built specifically for AI agents (LLMs), delivering real-time, accurate, and factual results at speed.\n",
        "\n",
        "Generate Tavily API Key from this [link](https://app.tavily.com/home)"
      ]
    },
    {
      "cell_type": "code",
      "execution_count": 7,
      "id": "32a2c52f",
      "metadata": {
        "id": "32a2c52f"
      },
      "outputs": [],
      "source": [
        "import os\n",
        "from dotenv import load_dotenv\n",
        "\n",
        "# Load environment variables from .env file\n",
        "load_dotenv(\"../.env\")\n",
        "\n",
        "os.environ[\"TAVILY_API_KEY\"] = os.getenv('TAVILY_API_KEY')"
      ]
    },
    {
      "cell_type": "code",
      "execution_count": 8,
      "id": "ZfoaRX0GC4T3",
      "metadata": {
        "id": "ZfoaRX0GC4T3"
      },
      "outputs": [
        {
          "name": "stderr",
          "output_type": "stream",
          "text": [
            "C:\\Users\\vijay\\AppData\\Local\\Temp\\ipykernel_3688\\102372591.py:1: LangChainDeprecationWarning: The class `TavilySearchResults` was deprecated in LangChain 0.3.25 and will be removed in 1.0. An updated version of the class exists in the :class:`~langchain-tavily package and should be used instead. To use it run `pip install -U :class:`~langchain-tavily` and import as `from :class:`~langchain_tavily import TavilySearch``.\n",
            "  search = TavilySearchResults()\n"
          ]
        }
      ],
      "source": [
        "search = TavilySearchResults()\n",
        "tools = [search]"
      ]
    },
    {
      "cell_type": "markdown",
      "id": "7daee658",
      "metadata": {
        "id": "7daee658"
      },
      "source": [
        "## Agent\n",
        "\n",
        "Agents are a powerful feature in LangChain that allow you to create intelligent systems capable of performing complex tasks by leveraging multiple tools and large language models (LLMs). Agents can dynamically select and execute actions based on the input they receive, enabling the creation of sophisticated applications that require decision-making and multi-step processes."
      ]
    },
    {
      "cell_type": "code",
      "execution_count": 9,
      "id": "b6152ad4",
      "metadata": {
        "id": "b6152ad4"
      },
      "outputs": [],
      "source": [
        "agent = create_openai_functions_agent(llm, tools, prompt)"
      ]
    },
    {
      "cell_type": "code",
      "execution_count": 10,
      "id": "df123904",
      "metadata": {
        "id": "df123904"
      },
      "outputs": [],
      "source": [
        "result = agent.invoke({\"input\": \"what's the weather in Bengaluru?\", \"intermediate_steps\": []})"
      ]
    },
    {
      "cell_type": "code",
      "execution_count": 11,
      "id": "fbf7ceb5",
      "metadata": {
        "colab": {
          "base_uri": "https://localhost:8080/",
          "height": 36
        },
        "id": "fbf7ceb5",
        "outputId": "b3607185-1ae3-4c85-f16a-a847ca6707d1"
      },
      "outputs": [
        {
          "data": {
            "text/plain": [
              "'tavily_search_results_json'"
            ]
          },
          "execution_count": 11,
          "metadata": {},
          "output_type": "execute_result"
        }
      ],
      "source": [
        "result.tool"
      ]
    },
    {
      "cell_type": "code",
      "execution_count": 12,
      "id": "ee380cf3",
      "metadata": {
        "colab": {
          "base_uri": "https://localhost:8080/"
        },
        "id": "ee380cf3",
        "outputId": "e9f3a195-6168-46da-97a6-6abbb967af77"
      },
      "outputs": [
        {
          "data": {
            "text/plain": [
              "{'query': 'weather in Bengaluru'}"
            ]
          },
          "execution_count": 12,
          "metadata": {},
          "output_type": "execute_result"
        }
      ],
      "source": [
        "result.tool_input"
      ]
    },
    {
      "cell_type": "code",
      "execution_count": 13,
      "id": "55f14f30",
      "metadata": {
        "colab": {
          "base_uri": "https://localhost:8080/"
        },
        "id": "55f14f30",
        "outputId": "d7f2f869-cdb1-4d98-db6f-f57cbc574345"
      },
      "outputs": [
        {
          "data": {
            "text/plain": [
              "AgentActionMessageLog(tool='tavily_search_results_json', tool_input={'query': 'weather in Bengaluru'}, log=\"\\nInvoking: `tavily_search_results_json` with `{'query': 'weather in Bengaluru'}`\\n\\n\\n\", message_log=[AIMessage(content='', additional_kwargs={'function_call': {'arguments': '{\"query\":\"weather in Bengaluru\"}', 'name': 'tavily_search_results_json'}, 'refusal': None}, response_metadata={'token_usage': {'completion_tokens': 21, 'prompt_tokens': 95, 'total_tokens': 116, 'completion_tokens_details': {'accepted_prediction_tokens': 0, 'audio_tokens': 0, 'reasoning_tokens': 0, 'rejected_prediction_tokens': 0}, 'prompt_tokens_details': {'audio_tokens': 0, 'cached_tokens': 0}}, 'model_name': 'gpt-3.5-turbo-0125', 'system_fingerprint': None, 'id': 'chatcmpl-BwiKPpxDM4TvKmGrnhj94afLGJVkk', 'service_tier': 'default', 'finish_reason': 'function_call', 'logprobs': None}, id='run--dde64f47-6f5b-4b75-9c36-b76dc1656cc5-0', usage_metadata={'input_tokens': 95, 'output_tokens': 21, 'total_tokens': 116, 'input_token_details': {'audio': 0, 'cache_read': 0}, 'output_token_details': {'audio': 0, 'reasoning': 0}})])"
            ]
          },
          "execution_count": 13,
          "metadata": {},
          "output_type": "execute_result"
        }
      ],
      "source": [
        "result"
      ]
    },
    {
      "cell_type": "markdown",
      "id": "87a3993e",
      "metadata": {
        "id": "87a3993e"
      },
      "source": [
        "## Agent Executor\n",
        "\n",
        "An agent executor is a component that manages the execution of agents, allowing them to perform tasks and interact with tools in a controlled manner."
      ]
    },
    {
      "cell_type": "code",
      "execution_count": 14,
      "id": "2eef3db8",
      "metadata": {
        "id": "2eef3db8"
      },
      "outputs": [],
      "source": [
        "agent_executor = AgentExecutor(agent=agent, tools=tools)"
      ]
    },
    {
      "cell_type": "code",
      "execution_count": 15,
      "id": "a6c08822",
      "metadata": {
        "colab": {
          "base_uri": "https://localhost:8080/"
        },
        "id": "a6c08822",
        "outputId": "320e7631-3436-44a6-b75a-2e7d1dc5b01b"
      },
      "outputs": [
        {
          "data": {
            "text/plain": [
              "{'input': 'what is the weather in Bengaluru?',\n",
              " 'output': 'The weather in Bengaluru in July 2025 is expected to have temperatures ranging from 19°C to 26°C. There may be some rainfall during this time as well. If you need more detailed information, you can visit [this link](https://en.climate-data.org/asia/india/karnataka/bengaluru-4562/t/july-7/).'}"
            ]
          },
          "execution_count": 15,
          "metadata": {},
          "output_type": "execute_result"
        }
      ],
      "source": [
        "agent_executor.invoke({\"input\": \"what is the weather in Bengaluru?\"})"
      ]
    },
    {
      "cell_type": "markdown",
      "id": "4e8ca119",
      "metadata": {
        "id": "4e8ca119"
      },
      "source": [
        "## Streaming"
      ]
    },
    {
      "cell_type": "code",
      "execution_count": 16,
      "id": "e9b9dd6e",
      "metadata": {
        "colab": {
          "base_uri": "https://localhost:8080/"
        },
        "id": "e9b9dd6e",
        "outputId": "236fe59e-3974-4c69-e0da-c6dc9853a302"
      },
      "outputs": [
        {
          "name": "stdout",
          "output_type": "stream",
          "text": [
            "{'actions': [AgentActionMessageLog(tool='tavily_search_results_json', tool_input={'query': 'weather in Bengaluru'}, log=\"\\nInvoking: `tavily_search_results_json` with `{'query': 'weather in Bengaluru'}`\\n\\n\\n\", message_log=[AIMessageChunk(content='', additional_kwargs={'function_call': {'arguments': '{\"query\":\"weather in Bengaluru\"}', 'name': 'tavily_search_results_json'}}, response_metadata={'finish_reason': 'function_call', 'model_name': 'gpt-3.5-turbo-0125', 'service_tier': 'default'}, id='run--d595ade2-001c-4b42-8011-ec47fcc00b72')])], 'messages': [AIMessageChunk(content='', additional_kwargs={'function_call': {'arguments': '{\"query\":\"weather in Bengaluru\"}', 'name': 'tavily_search_results_json'}}, response_metadata={'finish_reason': 'function_call', 'model_name': 'gpt-3.5-turbo-0125', 'service_tier': 'default'}, id='run--d595ade2-001c-4b42-8011-ec47fcc00b72')]}\n",
            "{'steps': [AgentStep(action=AgentActionMessageLog(tool='tavily_search_results_json', tool_input={'query': 'weather in Bengaluru'}, log=\"\\nInvoking: `tavily_search_results_json` with `{'query': 'weather in Bengaluru'}`\\n\\n\\n\", message_log=[AIMessageChunk(content='', additional_kwargs={'function_call': {'arguments': '{\"query\":\"weather in Bengaluru\"}', 'name': 'tavily_search_results_json'}}, response_metadata={'finish_reason': 'function_call', 'model_name': 'gpt-3.5-turbo-0125', 'service_tier': 'default'}, id='run--d595ade2-001c-4b42-8011-ec47fcc00b72')]), observation=[{'title': 'Weather Bengaluru in July 2025: Temperature & Climate', 'url': 'https://en.climate-data.org/asia/india/karnataka/bengaluru-4562/t/july-7/', 'content': '| 23. July | 22 °C | 72 °F | 26 °C | 79 °F | 19 °C | 67 °F | 9.6 mm | 0.4 inch. |\\n| 24. July | 22 °C | 72 °F | 26 °C | 79 °F | 19 °C | 67 °F | 7.8 mm | 0.3 inch. |\\n| 25. July | 22 °C | 72 °F | 26 °C | 79 °F | 19 °C | 67 °F | 7.5 mm | 0.3 inch. |\\n| 26. July | 22 °C | 72 °F | 26 °C | 78 °F | 19 °C | 67 °F | 7.8 mm | 0.3 inch. |\\n| 27. July | 22 °C | 72 °F | 26 °C | 78 °F | 19 °C | 67 °F | 9.3 mm | 0.4 inch. |\\n| 28. July | 22 °C | 71 °F | 26 °C | 79 °F | 19 °C | 67 °F | 11.3 mm | 0.4 inch. | [...] | Max. Temperature °C (°F) | 27.4 °C (81.2) °F | 29.6 °C (85.3) °F | 32.1 °C (89.8) °F | 32.8 °C (91.1) °F | 31.2 °C (88.2) °F | 27.5 °C (81.5) °F | 26.4 °C (79.5) °F | 26.1 °C (79) °F | 26.7 °C (80) °F | 26.4 °C (79.6) °F | 25.7 °C (78.3) °F | 25.8 °C (78.4) °F |\\n| Precipitation / Rainfall mm (in) | 4 (0) | 7 (0) | 16 (0) | 45 (1) | 131 (5) | 126 (4) | 134 (5) | 137 (5) | 125 (4) | 147 (5) | 65 (2) | 23 (0) | [...] | Min. Temperature °C (°F) | 14.6 °C (58.4) °F | 16.1 °C (61) °F | 18.7 °C (65.6) °F | 20.8 °C (69.4) °F | 21 °C (69.8) °F | 20.2 °C (68.3) °F | 19.8 °C (67.6) °F | 19.4 °C (66.9) °F | 19 °C (66.2) °F | 18.4 °C (65.1) °F | 16.7 °C (62) °F | 15.1 °C (59.1) °F |', 'score': 0.9119436}, {'title': 'Bengaluru July 2025 Historical Weather Data (Karnataka, India)', 'url': 'https://weatherspark.com/h/m/108998/2025/7/Historical-Weather-in-July-2025-in-Bengaluru-Karnataka-India', 'content': 'WNW | - | | 9:57 AM | N | 229,397 mi | | 23 |  | 3% | 4:15 AM | ENE | 5:44 PM | WNW | - | | 11:00 AM | N | 230,682 mi | | 24 |  | 0% | 5:19 AM | ENE | 6:40 PM | WNW | - | | 12:01 PM | N | 232,615 mi | | 25 |  | 0% | 6:20 AM | ENE | 7:29 PM | WNW | - | | 12:57 PM | N | 235,103 mi | | 26 |  | 3% | 7:17 AM | ENE | 8:13 PM | WNW | - | | 1:47 PM | N | 237,983 mi | | 27 |  | 8% | 8:10 AM | ENE | 8:52 PM | W | - | | 2:33 PM | S | 241,037 mi | | 28 |  | 14% | 9:00 AM | E | 9:28 PM | W | - | | 3:15 PM | [...] | 10:43 AM | W | 11:01 PM | E | 4:31 AM | S | 232,743 mi | | 17 |  | 62% | - | | 11:36 AM | W | 11:42 PM | ENE | 5:17 AM | S | 231,296 mi | | 18 |  | 50% | - | | 12:32 PM | WNW | - | | 6:05 AM | S | 230,104 mi | | 19 |  | 38% | 12:27 AM | ENE | 1:31 PM | WNW | - | | 6:57 AM | N | 229,225 mi | | 20 |  | 27% | 1:16 AM | ENE | 2:33 PM | WNW | - | | 7:53 AM | N | 228,746 mi | | 21 |  | 17% | 2:11 AM | ENE | 3:38 PM | WNW | - | | 8:53 AM | N | 228,771 mi | | 22 |  | 9% | 3:11 AM | ENE | 4:43 PM | [...] 6:40 PM | S | 250,508 mi | | 4 |  | 67% | - | | 12:41 AM | WSW | 1:26 PM | ESE | 7:21 PM | S | 251,322 mi | | 5 |  | 76% | - | | 1:17 AM | WSW | 2:14 PM | ESE | 8:04 PM | S | 251,333 mi | | 6 |  | 83% | - | | 1:56 AM | WSW | 3:04 PM | ESE | 8:51 PM | S | 250,607 mi | | 7 |  | 90% | - | | 2:39 AM | WSW | 3:56 PM | ESE | 9:41 PM | S | 249,253 mi | | 8 |  | 95% | - | | 3:27 AM | WSW | 4:50 PM | ESE | 10:34 PM | S | 247,418 mi | | 9 |  | 99% | - | | 4:18 AM | WSW | 5:45 PM | ESE | 11:29 PM | S |', 'score': 0.90869105}, {'title': 'Weather in Bengaluru in July 2025 - Detailed Forecast', 'url': 'https://www.easeweather.com/asia/india/karnataka/bangalore-urban/bengaluru/july', 'content': 'So far, July 2025 in Bengaluru is slightly warmer than the historical average by 0.9°C.\\n\\n   Expect cooler weather in the next days in Bengaluru with the forecast suggesting a temperature of 25.6°C, lower than the historical average.\\n\\n   In general, the average temperature in Bengaluru at the beginning of July is 27.6°C. As the month progressed, temperatures tended to noticeably cool down, reaching an average of 25.3°C by the end of July.\\n\\n### Rain 🌧️ [...] | 25 Jul. | Image 65: Patchy rain possible Patchy rain possible | 24°/20° | 1.7 mm | 5 |  |\\n| 26 Jul. | Image 66: Patchy rain possible Patchy rain possible | 22°/19° | 0.2 mm | 5 |  |\\n| 27 Jul. | Image 67: Overcast Overcast | 25°/19° | 0 mm | 5 |  |\\n| 28 Jul. | Image 68: Patchy rain possible Patchy rain possible | 26°/20° | 0.1 mm | 5 |  |\\n| 29 Jul. | Image 69: Patchy rain possible Patchy rain possible | 27°/19° | 0.3 mm | 5 |  | [...] | 20 Jul. | Image 60: Patchy rain possible Patchy rain possible | 25°/19° | 3.3 mm | 2.6 |  |\\n| 21 Jul. | Image 61: Patchy rain possible Patchy rain possible | 27°/20° | 1.6 mm | 5 |  |\\n| 22 Jul. | Image 62: Patchy rain possible Patchy rain possible | 26°/20° | 0.3 mm | 5 |  |\\n| 23 Jul. | Image 63: Patchy rain possible Patchy rain possible | 26°/20° | 0.6 mm | 5 |  |\\n| 24 Jul. | Image 64: Patchy rain possible Patchy rain possible | 26°/20° | 0.4 mm | 5 |  |', 'score': 0.8585411}, {'title': 'Bangalore weather in July 2025 - Weather25.com', 'url': 'https://www.weather25.com/asia/india/karnataka/bangalore?page=month&month=July', 'content': 'Our weather forecast can give you a great sense of what weather to expect in Bangalore in July 2025.\\n\\nIf you’re planning to visit Bangalore in the near future, we highly recommend that you review the 14 day weather forecast for Bangalore before you arrive.\\n\\nImage 22: Temperatures\\n\\nTemperatures\\n\\n28° /20° \\n\\nImage 23: Rainy Days\\n\\nRainy Days\\n\\n9\\n\\nImage 24: Snowy Days\\n\\nSnowy Days\\n\\n0\\n\\nImage 25: Dry Days\\n\\nDry Days\\n\\n22\\n\\nImage 26: Rainfall\\n\\nRainfall\\n\\n141\\n\\nmm\\n\\nImage 27: 10.1\\n\\nSun Hours\\n\\n10.1\\n\\nHrs [...] | Sun | Mon | Tue | Wed | Thu | Fri | Sat |\\n| --- | --- | --- | --- | --- | --- | --- |\\n|  |  | 1 Image 28: Light rain shower 28°/21° | 2 Image 29: Patchy rain possible 28°/21° | 3 Image 30: Partly cloudy 26°/21° | 4 Image 31: Light rain shower 27°/20° | 5 Image 32: Patchy rain possible 26°/20° | [...] | 20 Image 47: Light rain shower 25°/19° | 21 Image 48: Light rain shower 27°/20° | 22 Image 49: Light rain shower 26°/20° | 23 Image 50: Light rain shower 26°/20° | 24 Image 51: Patchy rain possible 26°/19° | 25 Image 52: Light rain shower 24°/20° | 26 Image 53: Patchy rain possible 22°/19° |', 'score': 0.8576849}, {'title': 'Bangalore Weather in July 2025 - Temperature & Climate', 'url': 'https://www.makemytrip.com/tripideas/bangalore/bangalore-weather-in-july', 'content': \"Image 2: Icon for Moderate\\nModerate\\n\\nTemp (Max/Min)\\n\\n26° / 19°\\n\\nRain (mm)\\n\\n134\\n\\nJuly continues to experience monsoon showers, with temperatures ranging from 19.8C to 26.4C. The city remains draped in green, with an abundance of flora and fauna. This is an ideal time to explore Bangalore's wildlife sanctuaries, such as Bannerghatta Biological Park and the Ranganathittu Bird Sanctuary. The monsoon season also gives rise to numerous cultural and music festivals in the city. [...] Image 3: Ads by MMTImage 4\\n\\nWeather in other Months\\n-----------------------\\n\\nAug\\n\\nWeather Opinion\\n\\nImage 5: Icon for Moderate\\nModerate\\n\\nTemp (Max/Min)\\n\\n26° / 19°\\n\\nRain (mm)\\n\\n137\\n\\nSee Details\\n\\nSep\\n\\nWeather Opinion\\n\\nImage 6: Icon for Moderate\\nModerate\\n\\nTemp (Max/Min)\\n\\n26° / 19°\\n\\nRain (mm)\\n\\n125\\n\\nSee Details\\n\\nOct\\n\\nWeather Opinion\\n\\nImage 7: Icon for Peak\\nPeak\\n\\nTemp (Max/Min)\\n\\n26° / 18°\\n\\nRain (mm)\\n\\n147\\n\\nSee Details\\n\\nNov\\n\\nWeather Opinion\\n\\nImage 8: Icon for Peak\\nPeak\\n\\nTemp (Max/Min)\\n\\n25° / 16° [...] The weather of Bangalore in peak season is cold yet pleasant climate. It means you can easily plan a trip in this season for maximum fun during this season.\\n\\n### What is the best time to visit Bangalore?\", 'score': 0.81524754}])], 'messages': [FunctionMessage(content='[{\"title\": \"Weather Bengaluru in July 2025: Temperature & Climate\", \"url\": \"https://en.climate-data.org/asia/india/karnataka/bengaluru-4562/t/july-7/\", \"content\": \"| 23. July | 22 °C | 72 °F | 26 °C | 79 °F | 19 °C | 67 °F | 9.6 mm | 0.4 inch. |\\\\n| 24. July | 22 °C | 72 °F | 26 °C | 79 °F | 19 °C | 67 °F | 7.8 mm | 0.3 inch. |\\\\n| 25. July | 22 °C | 72 °F | 26 °C | 79 °F | 19 °C | 67 °F | 7.5 mm | 0.3 inch. |\\\\n| 26. July | 22 °C | 72 °F | 26 °C | 78 °F | 19 °C | 67 °F | 7.8 mm | 0.3 inch. |\\\\n| 27. July | 22 °C | 72 °F | 26 °C | 78 °F | 19 °C | 67 °F | 9.3 mm | 0.4 inch. |\\\\n| 28. July | 22 °C | 71 °F | 26 °C | 79 °F | 19 °C | 67 °F | 11.3 mm | 0.4 inch. | [...] | Max. Temperature °C (°F) | 27.4 °C (81.2) °F | 29.6 °C (85.3) °F | 32.1 °C (89.8) °F | 32.8 °C (91.1) °F | 31.2 °C (88.2) °F | 27.5 °C (81.5) °F | 26.4 °C (79.5) °F | 26.1 °C (79) °F | 26.7 °C (80) °F | 26.4 °C (79.6) °F | 25.7 °C (78.3) °F | 25.8 °C (78.4) °F |\\\\n| Precipitation / Rainfall mm (in) | 4 (0) | 7 (0) | 16 (0) | 45 (1) | 131 (5) | 126 (4) | 134 (5) | 137 (5) | 125 (4) | 147 (5) | 65 (2) | 23 (0) | [...] | Min. Temperature °C (°F) | 14.6 °C (58.4) °F | 16.1 °C (61) °F | 18.7 °C (65.6) °F | 20.8 °C (69.4) °F | 21 °C (69.8) °F | 20.2 °C (68.3) °F | 19.8 °C (67.6) °F | 19.4 °C (66.9) °F | 19 °C (66.2) °F | 18.4 °C (65.1) °F | 16.7 °C (62) °F | 15.1 °C (59.1) °F |\", \"score\": 0.9119436}, {\"title\": \"Bengaluru July 2025 Historical Weather Data (Karnataka, India)\", \"url\": \"https://weatherspark.com/h/m/108998/2025/7/Historical-Weather-in-July-2025-in-Bengaluru-Karnataka-India\", \"content\": \"WNW | - | | 9:57 AM | N | 229,397 mi | | 23 |  | 3% | 4:15 AM | ENE | 5:44 PM | WNW | - | | 11:00 AM | N | 230,682 mi | | 24 |  | 0% | 5:19 AM | ENE | 6:40 PM | WNW | - | | 12:01 PM | N | 232,615 mi | | 25 |  | 0% | 6:20 AM | ENE | 7:29 PM | WNW | - | | 12:57 PM | N | 235,103 mi | | 26 |  | 3% | 7:17 AM | ENE | 8:13 PM | WNW | - | | 1:47 PM | N | 237,983 mi | | 27 |  | 8% | 8:10 AM | ENE | 8:52 PM | W | - | | 2:33 PM | S | 241,037 mi | | 28 |  | 14% | 9:00 AM | E | 9:28 PM | W | - | | 3:15 PM | [...] | 10:43 AM | W | 11:01 PM | E | 4:31 AM | S | 232,743 mi | | 17 |  | 62% | - | | 11:36 AM | W | 11:42 PM | ENE | 5:17 AM | S | 231,296 mi | | 18 |  | 50% | - | | 12:32 PM | WNW | - | | 6:05 AM | S | 230,104 mi | | 19 |  | 38% | 12:27 AM | ENE | 1:31 PM | WNW | - | | 6:57 AM | N | 229,225 mi | | 20 |  | 27% | 1:16 AM | ENE | 2:33 PM | WNW | - | | 7:53 AM | N | 228,746 mi | | 21 |  | 17% | 2:11 AM | ENE | 3:38 PM | WNW | - | | 8:53 AM | N | 228,771 mi | | 22 |  | 9% | 3:11 AM | ENE | 4:43 PM | [...] 6:40 PM | S | 250,508 mi | | 4 |  | 67% | - | | 12:41 AM | WSW | 1:26 PM | ESE | 7:21 PM | S | 251,322 mi | | 5 |  | 76% | - | | 1:17 AM | WSW | 2:14 PM | ESE | 8:04 PM | S | 251,333 mi | | 6 |  | 83% | - | | 1:56 AM | WSW | 3:04 PM | ESE | 8:51 PM | S | 250,607 mi | | 7 |  | 90% | - | | 2:39 AM | WSW | 3:56 PM | ESE | 9:41 PM | S | 249,253 mi | | 8 |  | 95% | - | | 3:27 AM | WSW | 4:50 PM | ESE | 10:34 PM | S | 247,418 mi | | 9 |  | 99% | - | | 4:18 AM | WSW | 5:45 PM | ESE | 11:29 PM | S |\", \"score\": 0.90869105}, {\"title\": \"Weather in Bengaluru in July 2025 - Detailed Forecast\", \"url\": \"https://www.easeweather.com/asia/india/karnataka/bangalore-urban/bengaluru/july\", \"content\": \"So far, July 2025 in Bengaluru is slightly warmer than the historical average by 0.9°C.\\\\n\\\\n   Expect cooler weather in the next days in Bengaluru with the forecast suggesting a temperature of 25.6°C, lower than the historical average.\\\\n\\\\n   In general, the average temperature in Bengaluru at the beginning of July is 27.6°C. As the month progressed, temperatures tended to noticeably cool down, reaching an average of 25.3°C by the end of July.\\\\n\\\\n### Rain 🌧️ [...] | 25 Jul. | Image 65: Patchy rain possible Patchy rain possible | 24°/20° | 1.7 mm | 5 |  |\\\\n| 26 Jul. | Image 66: Patchy rain possible Patchy rain possible | 22°/19° | 0.2 mm | 5 |  |\\\\n| 27 Jul. | Image 67: Overcast Overcast | 25°/19° | 0 mm | 5 |  |\\\\n| 28 Jul. | Image 68: Patchy rain possible Patchy rain possible | 26°/20° | 0.1 mm | 5 |  |\\\\n| 29 Jul. | Image 69: Patchy rain possible Patchy rain possible | 27°/19° | 0.3 mm | 5 |  | [...] | 20 Jul. | Image 60: Patchy rain possible Patchy rain possible | 25°/19° | 3.3 mm | 2.6 |  |\\\\n| 21 Jul. | Image 61: Patchy rain possible Patchy rain possible | 27°/20° | 1.6 mm | 5 |  |\\\\n| 22 Jul. | Image 62: Patchy rain possible Patchy rain possible | 26°/20° | 0.3 mm | 5 |  |\\\\n| 23 Jul. | Image 63: Patchy rain possible Patchy rain possible | 26°/20° | 0.6 mm | 5 |  |\\\\n| 24 Jul. | Image 64: Patchy rain possible Patchy rain possible | 26°/20° | 0.4 mm | 5 |  |\", \"score\": 0.8585411}, {\"title\": \"Bangalore weather in July 2025 - Weather25.com\", \"url\": \"https://www.weather25.com/asia/india/karnataka/bangalore?page=month&month=July\", \"content\": \"Our weather forecast can give you a great sense of what weather to expect in Bangalore in July 2025.\\\\n\\\\nIf you’re planning to visit Bangalore in the near future, we highly recommend that you review the 14 day weather forecast for Bangalore before you arrive.\\\\n\\\\nImage 22: Temperatures\\\\n\\\\nTemperatures\\\\n\\\\n28° /20° \\\\n\\\\nImage 23: Rainy Days\\\\n\\\\nRainy Days\\\\n\\\\n9\\\\n\\\\nImage 24: Snowy Days\\\\n\\\\nSnowy Days\\\\n\\\\n0\\\\n\\\\nImage 25: Dry Days\\\\n\\\\nDry Days\\\\n\\\\n22\\\\n\\\\nImage 26: Rainfall\\\\n\\\\nRainfall\\\\n\\\\n141\\\\n\\\\nmm\\\\n\\\\nImage 27: 10.1\\\\n\\\\nSun Hours\\\\n\\\\n10.1\\\\n\\\\nHrs [...] | Sun | Mon | Tue | Wed | Thu | Fri | Sat |\\\\n| --- | --- | --- | --- | --- | --- | --- |\\\\n|  |  | 1 Image 28: Light rain shower 28°/21° | 2 Image 29: Patchy rain possible 28°/21° | 3 Image 30: Partly cloudy 26°/21° | 4 Image 31: Light rain shower 27°/20° | 5 Image 32: Patchy rain possible 26°/20° | [...] | 20 Image 47: Light rain shower 25°/19° | 21 Image 48: Light rain shower 27°/20° | 22 Image 49: Light rain shower 26°/20° | 23 Image 50: Light rain shower 26°/20° | 24 Image 51: Patchy rain possible 26°/19° | 25 Image 52: Light rain shower 24°/20° | 26 Image 53: Patchy rain possible 22°/19° |\", \"score\": 0.8576849}, {\"title\": \"Bangalore Weather in July 2025 - Temperature & Climate\", \"url\": \"https://www.makemytrip.com/tripideas/bangalore/bangalore-weather-in-july\", \"content\": \"Image 2: Icon for Moderate\\\\nModerate\\\\n\\\\nTemp (Max/Min)\\\\n\\\\n26° / 19°\\\\n\\\\nRain (mm)\\\\n\\\\n134\\\\n\\\\nJuly continues to experience monsoon showers, with temperatures ranging from 19.8C to 26.4C. The city remains draped in green, with an abundance of flora and fauna. This is an ideal time to explore Bangalore\\'s wildlife sanctuaries, such as Bannerghatta Biological Park and the Ranganathittu Bird Sanctuary. The monsoon season also gives rise to numerous cultural and music festivals in the city. [...] Image 3: Ads by MMTImage 4\\\\n\\\\nWeather in other Months\\\\n-----------------------\\\\n\\\\nAug\\\\n\\\\nWeather Opinion\\\\n\\\\nImage 5: Icon for Moderate\\\\nModerate\\\\n\\\\nTemp (Max/Min)\\\\n\\\\n26° / 19°\\\\n\\\\nRain (mm)\\\\n\\\\n137\\\\n\\\\nSee Details\\\\n\\\\nSep\\\\n\\\\nWeather Opinion\\\\n\\\\nImage 6: Icon for Moderate\\\\nModerate\\\\n\\\\nTemp (Max/Min)\\\\n\\\\n26° / 19°\\\\n\\\\nRain (mm)\\\\n\\\\n125\\\\n\\\\nSee Details\\\\n\\\\nOct\\\\n\\\\nWeather Opinion\\\\n\\\\nImage 7: Icon for Peak\\\\nPeak\\\\n\\\\nTemp (Max/Min)\\\\n\\\\n26° / 18°\\\\n\\\\nRain (mm)\\\\n\\\\n147\\\\n\\\\nSee Details\\\\n\\\\nNov\\\\n\\\\nWeather Opinion\\\\n\\\\nImage 8: Icon for Peak\\\\nPeak\\\\n\\\\nTemp (Max/Min)\\\\n\\\\n25° / 16° [...] The weather of Bangalore in peak season is cold yet pleasant climate. It means you can easily plan a trip in this season for maximum fun during this season.\\\\n\\\\n### What is the best time to visit Bangalore?\", \"score\": 0.81524754}]', additional_kwargs={}, response_metadata={}, name='tavily_search_results_json')]}\n",
            "{'output': 'The weather in Bengaluru in July 2025 is expected to have temperatures ranging from 19°C to 26°C. There may be some rainfall during this time as well. If you would like more detailed information, you can visit [this link](https://en.climate-data.org/asia/india/karnataka/bengaluru-4562/t/july-7/).', 'messages': [AIMessage(content='The weather in Bengaluru in July 2025 is expected to have temperatures ranging from 19°C to 26°C. There may be some rainfall during this time as well. If you would like more detailed information, you can visit [this link](https://en.climate-data.org/asia/india/karnataka/bengaluru-4562/t/july-7/).', additional_kwargs={}, response_metadata={})]}\n"
          ]
        }
      ],
      "source": [
        "for step in agent_executor.stream({\"input\": \"what is the weather in Bengaluru?\"}):\n",
        "    print(step)"
      ]
    },
    {
      "cell_type": "markdown",
      "id": "-d_DefWbTDVM",
      "metadata": {
        "id": "-d_DefWbTDVM"
      },
      "source": [
        "# **Let's Do an Activity**\n",
        "\n",
        "## **Objective**\n",
        "\n",
        "Creating an Agent with Tavily Search and OpenAI for Real-Time Information Retrieval\n",
        "\n",
        "## **Scenario**\n",
        "\n",
        "How can you create a LangChain agent that utilizes Tavily's Search API to retrieve real-time information and generate responses using OpenAI's GPT-3.5-turbo model?\n",
        "\n",
        "## **Steps**\n",
        "\n",
        "* Initialize API Keys\n",
        "* Import Required Libraries\n",
        "\n",
        "  * Import the necessary libraries from LangChain, LangChain Community, and OpenAI.\n",
        "\n",
        "* Configure the LLM\n",
        "\n",
        "  * Set up the ChatOpenAI model with your OpenAI API key.\n",
        "\n",
        "* Set Up Tavily Search\n",
        "\n",
        "  * Initialize the Tavily Search tool with your Tavily API key.\n",
        "\n",
        "* Create a Prompt Template\n",
        "* Create the Agent\n",
        "* Invoke the Agent"
      ]
    }
  ],
  "metadata": {
    "colab": {
      "provenance": []
    },
    "kernelspec": {
      "display_name": "Python 3",
      "language": "python",
      "name": "python3"
    },
    "language_info": {
      "codemirror_mode": {
        "name": "ipython",
        "version": 3
      },
      "file_extension": ".py",
      "mimetype": "text/x-python",
      "name": "python",
      "nbconvert_exporter": "python",
      "pygments_lexer": "ipython3",
      "version": "3.12.10"
    }
  },
  "nbformat": 4,
  "nbformat_minor": 5
}
